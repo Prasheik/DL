{
 "cells": [
  {
   "cell_type": "code",
   "execution_count": 9,
   "metadata": {},
   "outputs": [],
   "source": [
    "import pandas as pd\n",
    "import numpy as np\n",
    "import pandas as pd\n",
    "import numpy as np\n",
    "import sklearn\n",
    "from sklearn.linear_model import LogisticRegression\n",
    "from sklearn.cross_validation import train_test_split"
   ]
  },
  {
   "cell_type": "code",
   "execution_count": 2,
   "metadata": {},
   "outputs": [
    {
     "data": {
      "text/html": [
       "<div>\n",
       "<style scoped>\n",
       "    .dataframe tbody tr th:only-of-type {\n",
       "        vertical-align: middle;\n",
       "    }\n",
       "\n",
       "    .dataframe tbody tr th {\n",
       "        vertical-align: top;\n",
       "    }\n",
       "\n",
       "    .dataframe thead th {\n",
       "        text-align: right;\n",
       "    }\n",
       "</style>\n",
       "<table border=\"1\" class=\"dataframe\">\n",
       "  <thead>\n",
       "    <tr style=\"text-align: right;\">\n",
       "      <th></th>\n",
       "      <th>Loan_ID</th>\n",
       "      <th>Gender</th>\n",
       "      <th>Married</th>\n",
       "      <th>Dependents</th>\n",
       "      <th>Education</th>\n",
       "      <th>Self_Employed</th>\n",
       "      <th>ApplicantIncome</th>\n",
       "      <th>CoapplicantIncome</th>\n",
       "      <th>LoanAmount</th>\n",
       "      <th>Loan_Amount_Term</th>\n",
       "      <th>Credit_History</th>\n",
       "      <th>Property_Area</th>\n",
       "      <th>Loan_Status</th>\n",
       "    </tr>\n",
       "  </thead>\n",
       "  <tbody>\n",
       "    <tr>\n",
       "      <th>0</th>\n",
       "      <td>LP001002</td>\n",
       "      <td>Male</td>\n",
       "      <td>No</td>\n",
       "      <td>0</td>\n",
       "      <td>Graduate</td>\n",
       "      <td>No</td>\n",
       "      <td>5849</td>\n",
       "      <td>0.0</td>\n",
       "      <td>NaN</td>\n",
       "      <td>360.0</td>\n",
       "      <td>1.0</td>\n",
       "      <td>Urban</td>\n",
       "      <td>Y</td>\n",
       "    </tr>\n",
       "    <tr>\n",
       "      <th>1</th>\n",
       "      <td>LP001003</td>\n",
       "      <td>Male</td>\n",
       "      <td>Yes</td>\n",
       "      <td>1</td>\n",
       "      <td>Graduate</td>\n",
       "      <td>No</td>\n",
       "      <td>4583</td>\n",
       "      <td>1508.0</td>\n",
       "      <td>128.0</td>\n",
       "      <td>360.0</td>\n",
       "      <td>1.0</td>\n",
       "      <td>Rural</td>\n",
       "      <td>N</td>\n",
       "    </tr>\n",
       "    <tr>\n",
       "      <th>2</th>\n",
       "      <td>LP001005</td>\n",
       "      <td>Male</td>\n",
       "      <td>Yes</td>\n",
       "      <td>0</td>\n",
       "      <td>Graduate</td>\n",
       "      <td>Yes</td>\n",
       "      <td>3000</td>\n",
       "      <td>0.0</td>\n",
       "      <td>66.0</td>\n",
       "      <td>360.0</td>\n",
       "      <td>1.0</td>\n",
       "      <td>Urban</td>\n",
       "      <td>Y</td>\n",
       "    </tr>\n",
       "    <tr>\n",
       "      <th>3</th>\n",
       "      <td>LP001006</td>\n",
       "      <td>Male</td>\n",
       "      <td>Yes</td>\n",
       "      <td>0</td>\n",
       "      <td>Not Graduate</td>\n",
       "      <td>No</td>\n",
       "      <td>2583</td>\n",
       "      <td>2358.0</td>\n",
       "      <td>120.0</td>\n",
       "      <td>360.0</td>\n",
       "      <td>1.0</td>\n",
       "      <td>Urban</td>\n",
       "      <td>Y</td>\n",
       "    </tr>\n",
       "    <tr>\n",
       "      <th>4</th>\n",
       "      <td>LP001008</td>\n",
       "      <td>Male</td>\n",
       "      <td>No</td>\n",
       "      <td>0</td>\n",
       "      <td>Graduate</td>\n",
       "      <td>No</td>\n",
       "      <td>6000</td>\n",
       "      <td>0.0</td>\n",
       "      <td>141.0</td>\n",
       "      <td>360.0</td>\n",
       "      <td>1.0</td>\n",
       "      <td>Urban</td>\n",
       "      <td>Y</td>\n",
       "    </tr>\n",
       "  </tbody>\n",
       "</table>\n",
       "</div>"
      ],
      "text/plain": [
       "    Loan_ID Gender Married Dependents     Education Self_Employed  \\\n",
       "0  LP001002   Male      No          0      Graduate            No   \n",
       "1  LP001003   Male     Yes          1      Graduate            No   \n",
       "2  LP001005   Male     Yes          0      Graduate           Yes   \n",
       "3  LP001006   Male     Yes          0  Not Graduate            No   \n",
       "4  LP001008   Male      No          0      Graduate            No   \n",
       "\n",
       "   ApplicantIncome  CoapplicantIncome  LoanAmount  Loan_Amount_Term  \\\n",
       "0             5849                0.0         NaN             360.0   \n",
       "1             4583             1508.0       128.0             360.0   \n",
       "2             3000                0.0        66.0             360.0   \n",
       "3             2583             2358.0       120.0             360.0   \n",
       "4             6000                0.0       141.0             360.0   \n",
       "\n",
       "   Credit_History Property_Area Loan_Status  \n",
       "0             1.0         Urban           Y  \n",
       "1             1.0         Rural           N  \n",
       "2             1.0         Urban           Y  \n",
       "3             1.0         Urban           Y  \n",
       "4             1.0         Urban           Y  "
      ]
     },
     "execution_count": 2,
     "metadata": {},
     "output_type": "execute_result"
    }
   ],
   "source": [
    "#read file\n",
    "path = 'C:/Users/waghpr02/Desktop/Projects/classification'\n",
    "file = path+'/loan_pred_train.csv'\n",
    "data = pd.read_csv(file)\n",
    "data.head()"
   ]
  },
  {
   "cell_type": "code",
   "execution_count": 3,
   "metadata": {},
   "outputs": [
    {
     "name": "stdout",
     "output_type": "stream",
     "text": [
      "<class 'pandas.core.frame.DataFrame'>\n",
      "RangeIndex: 614 entries, 0 to 613\n",
      "Data columns (total 13 columns):\n",
      "Loan_ID              614 non-null object\n",
      "Gender               601 non-null object\n",
      "Married              611 non-null object\n",
      "Dependents           599 non-null object\n",
      "Education            614 non-null object\n",
      "Self_Employed        582 non-null object\n",
      "ApplicantIncome      614 non-null int64\n",
      "CoapplicantIncome    614 non-null float64\n",
      "LoanAmount           592 non-null float64\n",
      "Loan_Amount_Term     600 non-null float64\n",
      "Credit_History       564 non-null float64\n",
      "Property_Area        614 non-null object\n",
      "Loan_Status          614 non-null object\n",
      "dtypes: float64(4), int64(1), object(8)\n",
      "memory usage: 62.4+ KB\n"
     ]
    },
    {
     "data": {
      "text/plain": [
       "Loan_ID               0\n",
       "Gender               13\n",
       "Married               3\n",
       "Dependents           15\n",
       "Education             0\n",
       "Self_Employed        32\n",
       "ApplicantIncome       0\n",
       "CoapplicantIncome     0\n",
       "LoanAmount           22\n",
       "Loan_Amount_Term     14\n",
       "Credit_History       50\n",
       "Property_Area         0\n",
       "Loan_Status           0\n",
       "dtype: int64"
      ]
     },
     "execution_count": 3,
     "metadata": {},
     "output_type": "execute_result"
    }
   ],
   "source": [
    "data_oroginal = data.copy()\n",
    "data.info()\n",
    "data.isnull().sum()"
   ]
  },
  {
   "cell_type": "code",
   "execution_count": 4,
   "metadata": {},
   "outputs": [
    {
     "data": {
      "text/plain": [
       "Loan_ID              0\n",
       "Gender               0\n",
       "Married              0\n",
       "Dependents           0\n",
       "Education            0\n",
       "Self_Employed        0\n",
       "ApplicantIncome      0\n",
       "CoapplicantIncome    0\n",
       "LoanAmount           0\n",
       "Loan_Amount_Term     0\n",
       "Credit_History       0\n",
       "Property_Area        0\n",
       "Loan_Status          0\n",
       "dtype: int64"
      ]
     },
     "execution_count": 4,
     "metadata": {},
     "output_type": "execute_result"
    }
   ],
   "source": [
    "#missing data imputations\n",
    "mode_gender = data['Gender'].mode()\n",
    "data['Gender'] = data['Gender'].fillna('Male')\n",
    "data['Dependents'].mode()\n",
    "data['Dependents'] = data['Dependents'].fillna(0)\n",
    "data['Married'].mode()\n",
    "data['Married'] = data['Married'].fillna('Yes')\n",
    "data['Self_Employed'].mode()\n",
    "data['Self_Employed'] = data['Self_Employed'].fillna('No')\n",
    "data['LoanAmount'].mean()\n",
    "data['LoanAmount'] = data['LoanAmount'].fillna(146)\n",
    "data['Loan_Amount_Term'].median()\n",
    "data['Loan_Amount_Term'] = data['Loan_Amount_Term'].fillna(360)\n",
    "data['Credit_History'].mode()\n",
    "data['Credit_History'] = data['Credit_History'].fillna(1)\n",
    "data.isnull().sum()"
   ]
  },
  {
   "cell_type": "code",
   "execution_count": 10,
   "metadata": {},
   "outputs": [
    {
     "name": "stdout",
     "output_type": "stream",
     "text": [
      "Male      502\n",
      "Female    112\n",
      "Name: Gender, dtype: int64\n",
      "Yes    401\n",
      "No     213\n",
      "Name: Married, dtype: int64\n",
      "Graduate        480\n",
      "Not Graduate    134\n",
      "Name: Education, dtype: int64\n",
      "No     532\n",
      "Yes     82\n",
      "Name: Self_Employed, dtype: int64\n",
      "Semiurban    233\n",
      "Urban        202\n",
      "Rural        179\n",
      "Name: Property_Area, dtype: int64\n"
     ]
    },
    {
     "data": {
      "text/plain": [
       "Y    422\n",
       "N    192\n",
       "Name: Loan_Status, dtype: int64"
      ]
     },
     "execution_count": 10,
     "metadata": {},
     "output_type": "execute_result"
    }
   ],
   "source": [
    "#Balancing data using SMOTE\n",
    "data['Loan_Status'].value_counts()\n",
    "from imblearn.over_sampling import SMOTE\n",
    "from sklearn.model_selection import train_test_split\n",
    "data_1 = data.copy()\n",
    "data['Dependents'] = data['Dependents'].replace('3+',4)\n",
    "lb = sklearn.preprocessing.LabelBinarizer()\n",
    "le = sklearn.preprocessing.LabelEncoder()\n",
    "data = data.drop('Loan_ID', axis = 1)\n",
    "x = data.drop('Loan_Status', axis = 1)\n",
    "y = data['Loan_Status']\n",
    "y = lb.fit_transform(y)\n",
    "x.columns\n",
    "print(x['Gender'].value_counts())\n",
    "print(x['Married'].value_counts())\n",
    "print(x['Education'].value_counts())\n",
    "print(x['Self_Employed'].value_counts())\n",
    "print(x['Property_Area'].value_counts())\n",
    "\n",
    "x['Gender'] = lb.fit_transform(x['Gender'])\n",
    "x['Married'] = lb.fit_transform(x['Married'])\n",
    "x['Education'] = lb.fit_transform(x['Education'])\n",
    "x['Self_Employed'] = lb.fit_transform(x['Self_Employed'])\n",
    "x['Property_Area'] = le.fit_transform(x['Property_Area'])\n",
    "\n",
    "data_1['Loan_Status'].value_counts()"
   ]
  },
  {
   "cell_type": "code",
   "execution_count": 12,
   "metadata": {},
   "outputs": [
    {
     "name": "stdout",
     "output_type": "stream",
     "text": [
      "338\n",
      "338\n"
     ]
    }
   ],
   "source": [
    "sm = SMOTE(random_state = 22)\n",
    "x_train,  x_test, y_train, y_test = train_test_split(x, y, test_size = 0.20, random_state = 22)\n",
    "\n",
    "x_train_res, y_train_res = sm.fit_sample(x_train, y_train.ravel())\n",
    "print(sum(y_train_res==1))\n",
    "print(sum(y_train_res==0))"
   ]
  },
  {
   "cell_type": "code",
   "execution_count": 13,
   "metadata": {},
   "outputs": [
    {
     "name": "stdout",
     "output_type": "stream",
     "text": [
      "Accuracy of logistic regression classifier on test set: 0.75\n",
      "[[21 18]\n",
      " [13 71]]\n",
      "             precision    recall  f1-score   support\n",
      "\n",
      "          0       0.62      0.54      0.58        39\n",
      "          1       0.80      0.85      0.82        84\n",
      "\n",
      "avg / total       0.74      0.75      0.74       123\n",
      "\n"
     ]
    }
   ],
   "source": [
    "#Logistic regression\n",
    "from sklearn.linear_model import LogisticRegression\n",
    "lr = LogisticRegression(C=1, max_iter = 1000,random_state=22)\n",
    "logreg = lr.fit(x_train_res, y_train_res)\n",
    "y_pred = logreg.predict(x_test)\n",
    "print('Accuracy of logistic regression classifier on test set: {:.2f}'.format(logreg.score(x_test, y_test)))\n",
    "\n",
    "from sklearn.metrics import confusion_matrix\n",
    "confusion_matrix = confusion_matrix(y_test, y_pred)\n",
    "print(confusion_matrix)\n",
    "\n",
    "from sklearn.metrics import classification_report\n",
    "print(classification_report(y_test, y_pred))"
   ]
  },
  {
   "cell_type": "code",
   "execution_count": 14,
   "metadata": {},
   "outputs": [
    {
     "name": "stdout",
     "output_type": "stream",
     "text": [
      "Accuracy of logistic regression classifier on test set: 0.74\n",
      "[[22 17]\n",
      " [15 69]]\n",
      "             precision    recall  f1-score   support\n",
      "\n",
      "          0       0.59      0.56      0.58        39\n",
      "          1       0.80      0.82      0.81        84\n",
      "\n",
      "avg / total       0.74      0.74      0.74       123\n",
      "\n"
     ]
    }
   ],
   "source": [
    "#LogisticRegressionCV\n",
    "from sklearn.linear_model import LogisticRegressionCV\n",
    "clf = LogisticRegressionCV(Cs=10, cv=3, random_state=22)\n",
    "logreg_cv = clf.fit(x_train_res, y_train_res)\n",
    "y_pred_CV = logreg_cv.predict(x_test)\n",
    "print('Accuracy of logistic regression classifier on test set: {:.2f}'.format(logreg_cv.score(x_test, y_test)))\n",
    "\n",
    "from sklearn.metrics import confusion_matrix\n",
    "confusion_matrix = confusion_matrix(y_test, y_pred_CV)\n",
    "print(confusion_matrix)\n",
    "\n",
    "from sklearn.metrics import classification_report\n",
    "print(classification_report(y_test, y_pred_CV))"
   ]
  },
  {
   "cell_type": "code",
   "execution_count": 15,
   "metadata": {},
   "outputs": [
    {
     "name": "stderr",
     "output_type": "stream",
     "text": [
      "C:\\ProgramData\\Anaconda3\\lib\\site-packages\\sklearn\\grid_search.py:42: DeprecationWarning: This module was deprecated in version 0.18 in favor of the model_selection module into which all the refactored classes and functions are moved. This module will be removed in 0.20.\n",
      "  DeprecationWarning)\n"
     ]
    },
    {
     "name": "stdout",
     "output_type": "stream",
     "text": [
      "[[21 18]\n",
      " [ 9 75]]\n",
      "             precision    recall  f1-score   support\n",
      "\n",
      "          0       0.70      0.54      0.61        39\n",
      "          1       0.81      0.89      0.85        84\n",
      "\n",
      "avg / total       0.77      0.78      0.77       123\n",
      "\n",
      "tuned hpyerparameters :(best parameters)  {'C': 0.16681005372000587, 'penalty': 'l1'}\n",
      "Accuracy of GridsearchCV classifier on test set : 0.780487804878\n"
     ]
    }
   ],
   "source": [
    "#GridsearchCV\n",
    "from sklearn.grid_search import GridSearchCV\n",
    "grid = {'C':np.logspace(-1,1,10),'penalty':['l1','l2']}\n",
    "\n",
    "gscv = GridSearchCV(estimator = LogisticRegression(),param_grid = grid, cv = 10)\n",
    "logreg_gscv = gscv.fit(x_train_res, y_train_res)\n",
    "y_pred_gscv = logreg_gscv.predict(x_test)\n",
    "\n",
    "from sklearn.metrics import confusion_matrix\n",
    "confusion_matrix = confusion_matrix(y_test, y_pred_gscv)\n",
    "print(confusion_matrix)\n",
    "\n",
    "from sklearn.metrics import classification_report\n",
    "print(classification_report(y_test, y_pred_gscv))\n",
    "\n",
    "print(\"tuned hpyerparameters :(best parameters) \",gscv.best_params_)\n",
    "print(\"Accuracy of GridsearchCV classifier on test set :\",logreg_gscv.score(x_test, y_test))"
   ]
  },
  {
   "cell_type": "code",
   "execution_count": 16,
   "metadata": {},
   "outputs": [
    {
     "name": "stdout",
     "output_type": "stream",
     "text": [
      "[[18 21]\n",
      " [ 0 84]]\n",
      "             precision    recall  f1-score   support\n",
      "\n",
      "          0       1.00      0.46      0.63        39\n",
      "          1       0.80      1.00      0.89        84\n",
      "\n",
      "avg / total       0.86      0.83      0.81       123\n",
      "\n",
      "Accuracy of Decision Tree(GINI) classifier on test set : 0.829268292683\n",
      "[[18 21]\n",
      " [ 0 84]]\n",
      "             precision    recall  f1-score   support\n",
      "\n",
      "          0       1.00      0.46      0.63        39\n",
      "          1       0.80      1.00      0.89        84\n",
      "\n",
      "avg / total       0.86      0.83      0.81       123\n",
      "\n",
      "Accuracy of Decision Tree(entropy) classifier on test set : 0.829268292683\n"
     ]
    }
   ],
   "source": [
    "#tree based model\n",
    "#Decision Tree\n",
    "from sklearn.tree import DecisionTreeClassifier\n",
    "clf_gini = DecisionTreeClassifier(criterion = 'gini',max_depth = 3, min_samples_leaf = 3)\n",
    "decision_tree_clf_gini = clf_gini.fit(x_train_res, y_train_res)\n",
    "y_pred_clf_gini = decision_tree_clf_gini.predict(x_test)\n",
    "\n",
    "from sklearn.metrics import confusion_matrix\n",
    "confusion_matrix = confusion_matrix(y_test, y_pred_clf_gini)\n",
    "print(confusion_matrix)\n",
    "\n",
    "from sklearn.metrics import classification_report\n",
    "print(classification_report(y_test, y_pred_clf_gini))\n",
    "\n",
    "print(\"Accuracy of Decision Tree(GINI) classifier on test set :\",decision_tree_clf_gini.score(x_test, y_test))\n",
    "\n",
    "# In[6]\n",
    "# Tree Based Model = Entropy\n",
    "from sklearn.tree import DecisionTreeClassifier\n",
    "clf_entropy = DecisionTreeClassifier(criterion = 'entropy',max_depth = 3, min_samples_leaf = 3)\n",
    "decision_tree_clf_entropy = clf_entropy.fit(x_train_res, y_train_res)\n",
    "y_pred_clf_entropy = decision_tree_clf_entropy.predict(x_test)\n",
    "\n",
    "from sklearn.metrics import confusion_matrix\n",
    "confusion_matrix = confusion_matrix(y_test, y_pred_clf_entropy)\n",
    "print(confusion_matrix)\n",
    "\n",
    "from sklearn.metrics import classification_report\n",
    "print(classification_report(y_test, y_pred_clf_entropy))\n",
    "\n",
    "print(\"Accuracy of Decision Tree(entropy) classifier on test set :\",decision_tree_clf_entropy.score(x_test, y_test))"
   ]
  },
  {
   "cell_type": "code",
   "execution_count": 17,
   "metadata": {},
   "outputs": [
    {
     "name": "stdout",
     "output_type": "stream",
     "text": [
      "[[23 16]\n",
      " [13 71]]\n",
      "             precision    recall  f1-score   support\n",
      "\n",
      "          0       0.64      0.59      0.61        39\n",
      "          1       0.82      0.85      0.83        84\n",
      "\n",
      "avg / total       0.76      0.76      0.76       123\n",
      "\n",
      "Accuracy of RandomForestClassifier classifier on test set : 0.764227642276\n"
     ]
    }
   ],
   "source": [
    "#RandomForestClassifier\n",
    "from sklearn.ensemble import RandomForestClassifier\n",
    "rf = RandomForestClassifier()\n",
    "rf_model =  rf.fit(x_train_res, y_train_res)\n",
    "y_pred_rf = rf_model.predict(x_test)\n",
    "\n",
    "from sklearn.metrics import confusion_matrix\n",
    "confusion_matrix = confusion_matrix(y_test, y_pred_rf)\n",
    "print(confusion_matrix)\n",
    "\n",
    "from sklearn.metrics import classification_report\n",
    "print(classification_report(y_test, y_pred_rf))\n",
    "\n",
    "print(\"Accuracy of RandomForestClassifier classifier on test set :\",rf_model.score(x_test, y_test))"
   ]
  }
 ],
 "metadata": {
  "kernelspec": {
   "display_name": "Python 3",
   "language": "python",
   "name": "python3"
  },
  "language_info": {
   "codemirror_mode": {
    "name": "ipython",
    "version": 3
   },
   "file_extension": ".py",
   "mimetype": "text/x-python",
   "name": "python",
   "nbconvert_exporter": "python",
   "pygments_lexer": "ipython3",
   "version": "3.6.3"
  }
 },
 "nbformat": 4,
 "nbformat_minor": 2
}
